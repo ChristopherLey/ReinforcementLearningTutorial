{
 "cells": [
  {
   "metadata": {},
   "cell_type": "markdown",
   "source": [
    "![Frozen Lake Diagram](resources/Frozen_Lake_diagram.png \"Frozen Lake\")\n",
    "\n",
    "### Rules:\n",
    "- Agent begins at `START` and must navigate to `GOAL` without falling into a hole. \n",
    "- The agent can move in one of four directions: `LEFT`, `RIGHT`, `UP`, `DOWN`. \n",
    "- The agent receives a reward of `1` for reaching the `GOAL` and a reward of `0` otherwise. \n",
    "- Because the surface is slippery, the agent has a 0.33 probability of moving in the intended direction and the other 2/3 is split between the other directions. \n",
    "- Finally, there is a fence around the lake, so the agent cannot move off the grid, if it tries to move off the grid it will stay in the same spot. \n",
    "- Falling in a hole is a terminal state and the agent will be rewarded a score of `0`.\n",
    "\n",
    "## Markov Property\n",
    "$$\n",
    "P(S_{t+1} | S_t, A_t) = P(S_{t+1} | S_t, A_t, S_{t-1}, A_{t-1}, \\ldots, S_0, A_0)\n",
    "$$\n",
    "this implies that Markov Decision Processes (MDPs) are memoryless, where $S_i$ is the state at time $i$ and $A_i$ is the action at time $i$.\n",
    "\n",
    "The transition function is defined as:\n",
    "$$\n",
    "\\begin{align*}\n",
    "P(s'| s, a) = P(S_{t+1} = s'| S_t = s, A_t = a)\\\\\n",
    "\\sum_{s'\\in S} P(s'| s, a) = 1, \\forall s \\in S, a \\in A\n",
    "\\end{align*}\n",
    "$$\n",
    "where $P(s'| s, a)$ is the probability of transitioning to state $s'$ given that the agent is in state $s$ and takes action $a$."
   ],
   "id": "630e4883b8cd61fb"
  },
  {
   "metadata": {},
   "cell_type": "code",
   "outputs": [],
   "execution_count": null,
   "source": "",
   "id": "77a4f86f250306ef"
  }
 ],
 "metadata": {
  "kernelspec": {
   "display_name": "Python 3",
   "language": "python",
   "name": "python3"
  },
  "language_info": {
   "codemirror_mode": {
    "name": "ipython",
    "version": 2
   },
   "file_extension": ".py",
   "mimetype": "text/x-python",
   "name": "python",
   "nbconvert_exporter": "python",
   "pygments_lexer": "ipython2",
   "version": "2.7.6"
  }
 },
 "nbformat": 4,
 "nbformat_minor": 5
}
